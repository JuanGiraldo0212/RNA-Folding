{
 "cells": [
  {
   "cell_type": "code",
   "execution_count": 1,
   "metadata": {},
   "outputs": [],
   "source": [
    "import numpy as np"
   ]
  },
  {
   "cell_type": "code",
   "execution_count": 31,
   "metadata": {
    "scrolled": true
   },
   "outputs": [
    {
     "name": "stdout",
     "output_type": "stream",
     "text": [
      "[[0. 0. 0. 0. 0. 1. 0. 0. 0. 1. 0. 1. 1. 1. 1. 1. 0. 1.]\n",
      " [0. 0. 0. 0. 0. 1. 0. 0. 0. 1. 0. 1. 1. 1. 1. 1. 0. 1.]\n",
      " [0. 0. 0. 0. 0. 0. 0. 0. 0. 0. 0. 1. 0. 0. 0. 1. 0. 1.]\n",
      " [0. 0. 0. 0. 0. 0. 0. 0. 0. 0. 0. 1. 0. 0. 0. 1. 0. 1.]\n",
      " [0. 0. 0. 0. 0. 1. 0. 0. 0. 1. 0. 1. 1. 1. 1. 1. 0. 1.]\n",
      " [0. 0. 0. 0. 0. 0. 0. 0. 0. 0. 0. 0. 0. 0. 0. 0. 1. 0.]\n",
      " [0. 0. 0. 0. 0. 0. 0. 0. 0. 0. 0. 1. 0. 0. 0. 1. 0. 1.]\n",
      " [0. 0. 0. 0. 0. 0. 0. 0. 0. 0. 0. 1. 0. 0. 0. 1. 0. 1.]\n",
      " [0. 0. 0. 0. 0. 0. 0. 0. 0. 0. 0. 1. 0. 0. 0. 1. 0. 1.]\n",
      " [0. 0. 0. 0. 0. 0. 0. 0. 0. 0. 0. 0. 0. 0. 0. 0. 1. 0.]\n",
      " [0. 0. 0. 0. 0. 0. 0. 0. 0. 0. 0. 1. 0. 0. 0. 1. 0. 1.]\n",
      " [0. 0. 0. 0. 0. 0. 0. 0. 0. 0. 0. 0. 0. 0. 0. 0. 1. 0.]\n",
      " [0. 0. 0. 0. 0. 0. 0. 0. 0. 0. 0. 0. 0. 0. 0. 0. 1. 0.]\n",
      " [0. 0. 0. 0. 0. 0. 0. 0. 0. 0. 0. 0. 0. 0. 0. 0. 1. 0.]\n",
      " [0. 0. 0. 0. 0. 0. 0. 0. 0. 0. 0. 0. 0. 0. 0. 0. 1. 0.]\n",
      " [0. 0. 0. 0. 0. 0. 0. 0. 0. 0. 0. 0. 0. 0. 0. 0. 1. 0.]\n",
      " [0. 0. 0. 0. 0. 0. 0. 0. 0. 0. 0. 0. 0. 0. 0. 0. 0. 1.]\n",
      " [0. 0. 0. 0. 0. 0. 0. 0. 0. 0. 0. 0. 0. 0. 0. 0. 0. 0.]]\n"
     ]
    }
   ],
   "source": [
    "rna = \"GGAAGCAAACAUCCCUGU\"\n",
    "matrix = np.zeros((len(rna),len(rna)))\n",
    "for diag in range(0, len(matrix)):\n",
    "    for row in range(0, len(matrix)-diag):\n",
    "        col = row + diag\n",
    "        base1 = rna[row]\n",
    "        base2 = rna[col]\n",
    "        if row != col:\n",
    "            if (((base1 == \"A\" and base2 == \"U\") or (base1 == \"U\" and base2 == \"A\")) or ((base1 == \"G\" and base2 == \"C\") or (base1 == \"C\" and base2 == \"G\")) or ((base1 == \"G\" and base2 == \"U\") or (base1 == \"U\" and base2 == \"G\"))):\n",
    "                matrix[row][col] = 1\n",
    "print(matrix)"
   ]
  },
  {
   "cell_type": "code",
   "execution_count": 47,
   "metadata": {},
   "outputs": [
    {
     "name": "stdout",
     "output_type": "stream",
     "text": [
      "[[1, 14, 3], [5, 18, 3], [9, 18, 3]]\n"
     ]
    }
   ],
   "source": [
    "stems = []\n",
    "for row in range(0, len(matrix)):\n",
    "    for col in range (row, len(matrix)):\n",
    "        if row != col:\n",
    "            if matrix[row][col] == 1:\n",
    "                temp_row = row\n",
    "                temp_col = col\n",
    "                stem = [row+1,col+1,0]\n",
    "                lenght = 0\n",
    "                while (matrix[temp_row][temp_col] != 0) and (temp_row != temp_col):\n",
    "                    lenght+=1\n",
    "                    temp_row+=1\n",
    "                    temp_col-=1\n",
    "                if lenght >= 3:\n",
    "                    stems.append(stem)\n",
    "                    stem[2] = lenght\n",
    "print(stems)"
   ]
  },
  {
   "cell_type": "code",
   "execution_count": 52,
   "metadata": {},
   "outputs": [
    {
     "name": "stdout",
     "output_type": "stream",
     "text": [
      "[[0, 1, 0.5], [0, 2, 0.5], [1, 2, 1]]\n"
     ]
    }
   ],
   "source": [
    "def pseudoknots(i, j):\n",
    "    stem1 = stems[i]\n",
    "    stem2 = stems[j]\n",
    "    i_a = stem1[0]\n",
    "    j_a = stem1[1]\n",
    "    i_b = stem2[0]\n",
    "    j_b = stem2[1]\n",
    "    pseudoknot = [i,j,1]\n",
    "    if (i_a < i_b and i_b < j_a and j_a < j_b) or (i_b < i_a and i_a < j_b and j_b < j_a):\n",
    "        pseudoknot[2] = pseudoknot_penalty\n",
    "    pseudoknots_all.append(pseudoknot)\n",
    "\n",
    "pseudoknot_penalty = 0.5\n",
    "pseudoknots_all = []\n",
    "for i in range(len(stems)):\n",
    "    for j in range(i + 1, len(stems)):\n",
    "        pseudoknots(i, j)\n",
    "print(pseudoknots_all)"
   ]
  },
  {
   "cell_type": "code",
   "execution_count": null,
   "metadata": {},
   "outputs": [],
   "source": []
  }
 ],
 "metadata": {
  "kernelspec": {
   "display_name": "Python 3",
   "language": "python",
   "name": "python3"
  },
  "language_info": {
   "codemirror_mode": {
    "name": "ipython",
    "version": 3
   },
   "file_extension": ".py",
   "mimetype": "text/x-python",
   "name": "python",
   "nbconvert_exporter": "python",
   "pygments_lexer": "ipython3",
   "version": "3.7.4"
  }
 },
 "nbformat": 4,
 "nbformat_minor": 2
}
