{
 "cells": [
  {
   "cell_type": "code",
   "execution_count": 54,
   "id": "f558ff4b",
   "metadata": {},
   "outputs": [],
   "source": [
    "from selenium import webdriver\n",
    "from selenium.webdriver.common.keys import Keys\n",
    "import os\n",
    "from selenium.webdriver.common.by import By\n",
    "from selenium.common.exceptions import TimeoutException\n",
    "from selenium.webdriver.support import expected_conditions as EC\n",
    "from selenium.webdriver.support.ui import WebDriverWait\n",
    "from selenium.webdriver.common.action_chains import ActionChains"
   ]
  },
  {
   "cell_type": "code",
   "execution_count": 61,
   "id": "118aabf3",
   "metadata": {
    "scrolled": true
   },
   "outputs": [
    {
     "name": "stderr",
     "output_type": "stream",
     "text": [
      "C:\\Users\\juan-\\AppData\\Local\\Temp/ipykernel_6924/2947430276.py:8: DeprecationWarning: executable_path has been deprecated, please pass in a Service object\n",
      "  browser = webdriver.Chrome(executable_path=\"C:/Users/juan-/OneDrive/Escritorio/Repos/RNA-Folding/chromedriver\")\n",
      "C:\\Users\\juan-\\AppData\\Local\\Temp/ipykernel_6924/2947430276.py:12: DeprecationWarning: find_elements_by_class_name is deprecated. Please use find_elements(by=By.CLASS_NAME, value=name) instead\n",
      "  browser.find_elements_by_class_name(\"button\")[0].click()\n"
     ]
    },
    {
     "name": "stdout",
     "output_type": "stream",
     "text": [
      "Page is ready!\n",
      "Page is ready!\n",
      "Page is ready!\n",
      "Page is ready!\n",
      "Page is ready!\n"
     ]
    }
   ],
   "source": [
    "url = \"https://rna.urmc.rochester.edu/RNAstructureWeb/Servers/CircleCompare/CircleCompare.html\"\n",
    "arr = os.listdir(\"./results/cts\")\n",
    "bprna_ids = list(map(lambda x: x.split(\"_\")[2], arr))\n",
    "bprna_ids = list(dict.fromkeys(bprna_ids))\n",
    "for bprna_id in bprna_ids:\n",
    "    actual = \"bpRNA_RFAM_\"+bprna_id+\"_actual.ct\"\n",
    "    predicted = \"bpRNA_RFAM_\"+bprna_id+\"_predicted.ct\"\n",
    "    browser = webdriver.Chrome(executable_path=\"C:/Users/juan-/OneDrive/Escritorio/Repos/RNA-Folding/chromedriver\")\n",
    "    browser.get(url)\n",
    "    browser.find_element(by=By.NAME, value=\"inFile\").send_keys(os.getcwd()+\"/results/cts/\"+predicted)\n",
    "    browser.find_element(by=By.NAME, value=\"inFile2\").send_keys(os.getcwd()+\"/results/cts/\"+actual)\n",
    "    browser.find_elements_by_class_name(\"button\")[0].click()\n",
    "    delay = 10\n",
    "    try:\n",
    "        myElem = WebDriverWait(browser, delay).until(EC.presence_of_element_located((By.ID, 'formBox')))\n",
    "        browser.execute_script(\"window.scrollTo(0, 220)\") \n",
    "        browser.save_screenshot(\"./results/figures/bpRNA_RFAM_\"+bprna_id+\".png\")\n",
    "    except TimeoutException:\n",
    "        print(\"Loading took too much time!\")"
   ]
  }
 ],
 "metadata": {
  "kernelspec": {
   "display_name": "Python 3 (ipykernel)",
   "language": "python",
   "name": "python3"
  },
  "language_info": {
   "codemirror_mode": {
    "name": "ipython",
    "version": 3
   },
   "file_extension": ".py",
   "mimetype": "text/x-python",
   "name": "python",
   "nbconvert_exporter": "python",
   "pygments_lexer": "ipython3",
   "version": "3.9.7"
  }
 },
 "nbformat": 4,
 "nbformat_minor": 5
}
