{
 "cells": [
  {
   "cell_type": "markdown",
   "id": "0cae0b67",
   "metadata": {},
   "source": [
    "To plot: number of potential stems, overlaps, and pseudoknots as a function of RNA length"
   ]
  },
  {
   "cell_type": "code",
   "execution_count": 1,
   "id": "e59e87ed",
   "metadata": {},
   "outputs": [],
   "source": [
    "# import packages:\n",
    "\n",
    "import numpy as np\n",
    "import pandas as pd\n",
    "import math\n",
    "import os\n",
    "import glob\n",
    "import matplotlib\n",
    "import matplotlib.pyplot as plt\n",
    "from scipy.optimize import curve_fit"
   ]
  },
  {
   "cell_type": "code",
   "execution_count": 2,
   "id": "d56e9532",
   "metadata": {},
   "outputs": [],
   "source": [
    "def potential_stems(seq_ps):\n",
    "    \n",
    "    with open(\"./data/archiveII/\"+seq_ps) as file:\n",
    "        lines = file.readlines()\n",
    "    \n",
    "    rna = lines[2]\n",
    "    \n",
    "    matrix = np.zeros((len(rna),len(rna)))\n",
    "    for diag in range(0, len(matrix)):\n",
    "        for row in range(0, len(matrix)-diag):\n",
    "            col = row + diag\n",
    "            base1 = rna[row]\n",
    "            base2 = rna[col]\n",
    "            if row != col:\n",
    "                if ((base1 == (\"A\" or \"a\")) and (base2 == (\"U\" or \"u\"))) or ((base1 == (\"U\" or \"u\")) and (base2 == (\"A\" or \"a\"))) or ((base1 == (\"G\" or \"g\")) and (base2 == (\"U\" or \"u\"))) or ((base1 == (\"U\" or \"u\")) and (base2 == (\"G\" or \"g\"))) or ((base1 == (\"G\" or \"g\")) and (base2 == (\"C\" or \"c\"))) or ((base1 == (\"C\" or \"c\")) and (base2 == (\"G\" or \"g\"))):\n",
    "                    matrix[row][col] = 1\n",
    "    \n",
    "    stems_potential = []\n",
    "    mu = 0\n",
    "\n",
    "    for row in range(0, len(matrix)):\n",
    "        for col in range (row, len(matrix)):\n",
    "            if row != col:\n",
    "                if matrix[row][col] != 0:\n",
    "                    sp = []                 # stem pairs\n",
    "                    temp_row = row\n",
    "                    temp_col = col\n",
    "                    stem = [row+1,col+1,0,0]\n",
    "                    length = 0\n",
    "                    while (matrix[temp_row][temp_col] != 0) and (temp_row != temp_col):\n",
    "                        base1 = rna[temp_row]\n",
    "                        base2 = rna[temp_col]\n",
    "                        if (base1 == ('G' or 'g') and base2 == ('C' or 'c')):\n",
    "                            sp.append(\"GC\")\n",
    "                        if (base1 == ('C' or 'c') and base2 == ('G' or 'g')):\n",
    "                            sp.append(\"CG\")\n",
    "                        if (base1 == ('G' or 'g') and base2 == ('U' or 'u')):\n",
    "                            sp.append(\"GU\")\n",
    "                        if (base1 == ('U' or 'u') and base2 == ('G' or 'g')):\n",
    "                            sp.append(\"UG\")\n",
    "                        if (base1 == ('A' or 'a') and base2 == ('U' or 'u')):\n",
    "                            sp.append(\"AU\")\n",
    "                        if (base1 == ('U' or 'u') and base2 == ('A' or 'a')):\n",
    "                            sp.append(\"UA\")\n",
    "                        length += 1\n",
    "                        temp_row += 1\n",
    "                        temp_col -= 1\n",
    "                        if length >= 3:\n",
    "                            stem[2] = int(length)\n",
    "                            stem[3] = int(col-row-2*length)\n",
    "                            stems_potential.append(stem.copy())\n",
    "    \n",
    "    return [stems_potential, len(rna)]"
   ]
  },
  {
   "cell_type": "code",
   "execution_count": 3,
   "id": "ba2dd8d3",
   "metadata": {},
   "outputs": [],
   "source": [
    "def overlaps_and_pseudoknots(sp):\n",
    "    \n",
    "    overlap = 0\n",
    "    pseudoknot = 0\n",
    "\n",
    "    for i in range(len(sp)):\n",
    "        for j in range(i+1, len(sp)):\n",
    "    \n",
    "            stem1 = sp[i]\n",
    "            stem2 = sp[j]\n",
    "            \n",
    "            i_a = stem1[0]\n",
    "            j_a = stem1[1]\n",
    "            i_b = stem2[0]\n",
    "            j_b = stem2[1]\n",
    "    \n",
    "            stem1_cspan1 = set(range(stem1[1]-int(stem1[2])+1, stem1[1]+1))\n",
    "            stem2_cspan1 = set(range(stem2[1]-int(stem2[2])+1, stem2[1]+1))\n",
    "            \n",
    "            stem1_cspan2 = set(range(stem1[0], stem1[0]+int(stem1[2])))\n",
    "            stem2_cspan2 = set(range(stem2[0], stem2[0]+int(stem2[2])))\n",
    "    \n",
    "            if (len(stem1_cspan1 & stem2_cspan1) != 0) or (len(stem1_cspan2 & stem2_cspan2) != 0)  or (len(stem1_cspan1 & stem2_cspan2) != 0) or (len(stem1_cspan2 & stem2_cspan1) != 0):\n",
    "                overlap += 1\n",
    "            elif (i_a < i_b and i_b < j_a and j_a < j_b) or (i_b < i_a and i_a < j_b and j_b < j_a):\n",
    "                pseudoknot += 1\n",
    "                \n",
    "    return (overlap, pseudoknot)"
   ]
  },
  {
   "cell_type": "code",
   "execution_count": 4,
   "id": "64cde8ca",
   "metadata": {
    "collapsed": true
   },
   "outputs": [
    {
     "ename": "KeyboardInterrupt",
     "evalue": "",
     "output_type": "error",
     "traceback": [
      "\u001b[1;31m---------------------------------------------------------------------------\u001b[0m",
      "\u001b[1;31mKeyboardInterrupt\u001b[0m                         Traceback (most recent call last)",
      "\u001b[1;32m~\\AppData\\Local\\Temp/ipykernel_15800/4266074305.py\u001b[0m in \u001b[0;36m<module>\u001b[1;34m\u001b[0m\n\u001b[0;32m      3\u001b[0m \u001b[1;32mfor\u001b[0m \u001b[0mi\u001b[0m \u001b[1;32min\u001b[0m \u001b[0mseq\u001b[0m\u001b[1;33m:\u001b[0m\u001b[1;33m\u001b[0m\u001b[1;33m\u001b[0m\u001b[0m\n\u001b[0;32m      4\u001b[0m     \u001b[0mx\u001b[0m \u001b[1;33m=\u001b[0m \u001b[0mpotential_stems\u001b[0m\u001b[1;33m(\u001b[0m\u001b[0mi\u001b[0m\u001b[1;33m)\u001b[0m\u001b[1;33m\u001b[0m\u001b[1;33m\u001b[0m\u001b[0m\n\u001b[1;32m----> 5\u001b[1;33m     \u001b[0my\u001b[0m \u001b[1;33m=\u001b[0m \u001b[0moverlaps_and_pseudoknots\u001b[0m\u001b[1;33m(\u001b[0m\u001b[0mx\u001b[0m\u001b[1;33m[\u001b[0m\u001b[1;36m0\u001b[0m\u001b[1;33m]\u001b[0m\u001b[1;33m)\u001b[0m\u001b[1;33m\u001b[0m\u001b[1;33m\u001b[0m\u001b[0m\n\u001b[0m\u001b[0;32m      6\u001b[0m     \u001b[1;32mwith\u001b[0m \u001b[0mopen\u001b[0m\u001b[1;33m(\u001b[0m\u001b[1;34m\"preprocessing_all.txt\"\u001b[0m\u001b[1;33m,\u001b[0m \u001b[1;34m\"a\"\u001b[0m\u001b[1;33m)\u001b[0m \u001b[1;32mas\u001b[0m \u001b[0mf\u001b[0m\u001b[1;33m:\u001b[0m\u001b[1;33m\u001b[0m\u001b[1;33m\u001b[0m\u001b[0m\n\u001b[0;32m      7\u001b[0m         \u001b[0mf\u001b[0m\u001b[1;33m.\u001b[0m\u001b[0mwrite\u001b[0m\u001b[1;33m(\u001b[0m\u001b[0mstr\u001b[0m\u001b[1;33m(\u001b[0m\u001b[0mx\u001b[0m\u001b[1;33m[\u001b[0m\u001b[1;36m1\u001b[0m\u001b[1;33m]\u001b[0m\u001b[1;33m)\u001b[0m\u001b[1;33m+\u001b[0m\u001b[1;34m\",\"\u001b[0m\u001b[1;33m+\u001b[0m\u001b[0mstr\u001b[0m\u001b[1;33m(\u001b[0m\u001b[0mlen\u001b[0m\u001b[1;33m(\u001b[0m\u001b[0mx\u001b[0m\u001b[1;33m[\u001b[0m\u001b[1;36m0\u001b[0m\u001b[1;33m]\u001b[0m\u001b[1;33m)\u001b[0m\u001b[1;33m)\u001b[0m\u001b[1;33m+\u001b[0m\u001b[1;34m\",\"\u001b[0m\u001b[1;33m+\u001b[0m\u001b[0mstr\u001b[0m\u001b[1;33m(\u001b[0m\u001b[0my\u001b[0m\u001b[1;33m[\u001b[0m\u001b[1;36m0\u001b[0m\u001b[1;33m]\u001b[0m\u001b[1;33m)\u001b[0m\u001b[1;33m+\u001b[0m\u001b[1;34m\",\"\u001b[0m\u001b[1;33m+\u001b[0m\u001b[0mstr\u001b[0m\u001b[1;33m(\u001b[0m\u001b[0my\u001b[0m\u001b[1;33m[\u001b[0m\u001b[1;36m1\u001b[0m\u001b[1;33m]\u001b[0m\u001b[1;33m)\u001b[0m\u001b[1;33m+\u001b[0m\u001b[1;34m\"\\n\"\u001b[0m\u001b[1;33m)\u001b[0m\u001b[1;33m\u001b[0m\u001b[1;33m\u001b[0m\u001b[0m\n",
      "\u001b[1;32m~\\AppData\\Local\\Temp/ipykernel_15800/1581276613.py\u001b[0m in \u001b[0;36moverlaps_and_pseudoknots\u001b[1;34m(sp)\u001b[0m\n\u001b[0;32m     18\u001b[0m             \u001b[0mstem2_cspan1\u001b[0m \u001b[1;33m=\u001b[0m \u001b[0mset\u001b[0m\u001b[1;33m(\u001b[0m\u001b[0mrange\u001b[0m\u001b[1;33m(\u001b[0m\u001b[0mstem2\u001b[0m\u001b[1;33m[\u001b[0m\u001b[1;36m1\u001b[0m\u001b[1;33m]\u001b[0m\u001b[1;33m-\u001b[0m\u001b[0mint\u001b[0m\u001b[1;33m(\u001b[0m\u001b[0mstem2\u001b[0m\u001b[1;33m[\u001b[0m\u001b[1;36m2\u001b[0m\u001b[1;33m]\u001b[0m\u001b[1;33m)\u001b[0m\u001b[1;33m+\u001b[0m\u001b[1;36m1\u001b[0m\u001b[1;33m,\u001b[0m \u001b[0mstem2\u001b[0m\u001b[1;33m[\u001b[0m\u001b[1;36m1\u001b[0m\u001b[1;33m]\u001b[0m\u001b[1;33m+\u001b[0m\u001b[1;36m1\u001b[0m\u001b[1;33m)\u001b[0m\u001b[1;33m)\u001b[0m\u001b[1;33m\u001b[0m\u001b[1;33m\u001b[0m\u001b[0m\n\u001b[0;32m     19\u001b[0m \u001b[1;33m\u001b[0m\u001b[0m\n\u001b[1;32m---> 20\u001b[1;33m             \u001b[0mstem1_cspan2\u001b[0m \u001b[1;33m=\u001b[0m \u001b[0mset\u001b[0m\u001b[1;33m(\u001b[0m\u001b[0mrange\u001b[0m\u001b[1;33m(\u001b[0m\u001b[0mstem1\u001b[0m\u001b[1;33m[\u001b[0m\u001b[1;36m0\u001b[0m\u001b[1;33m]\u001b[0m\u001b[1;33m,\u001b[0m \u001b[0mstem1\u001b[0m\u001b[1;33m[\u001b[0m\u001b[1;36m0\u001b[0m\u001b[1;33m]\u001b[0m\u001b[1;33m+\u001b[0m\u001b[0mint\u001b[0m\u001b[1;33m(\u001b[0m\u001b[0mstem1\u001b[0m\u001b[1;33m[\u001b[0m\u001b[1;36m2\u001b[0m\u001b[1;33m]\u001b[0m\u001b[1;33m)\u001b[0m\u001b[1;33m)\u001b[0m\u001b[1;33m)\u001b[0m\u001b[1;33m\u001b[0m\u001b[1;33m\u001b[0m\u001b[0m\n\u001b[0m\u001b[0;32m     21\u001b[0m             \u001b[0mstem2_cspan2\u001b[0m \u001b[1;33m=\u001b[0m \u001b[0mset\u001b[0m\u001b[1;33m(\u001b[0m\u001b[0mrange\u001b[0m\u001b[1;33m(\u001b[0m\u001b[0mstem2\u001b[0m\u001b[1;33m[\u001b[0m\u001b[1;36m0\u001b[0m\u001b[1;33m]\u001b[0m\u001b[1;33m,\u001b[0m \u001b[0mstem2\u001b[0m\u001b[1;33m[\u001b[0m\u001b[1;36m0\u001b[0m\u001b[1;33m]\u001b[0m\u001b[1;33m+\u001b[0m\u001b[0mint\u001b[0m\u001b[1;33m(\u001b[0m\u001b[0mstem2\u001b[0m\u001b[1;33m[\u001b[0m\u001b[1;36m2\u001b[0m\u001b[1;33m]\u001b[0m\u001b[1;33m)\u001b[0m\u001b[1;33m)\u001b[0m\u001b[1;33m)\u001b[0m\u001b[1;33m\u001b[0m\u001b[1;33m\u001b[0m\u001b[0m\n\u001b[0;32m     22\u001b[0m \u001b[1;33m\u001b[0m\u001b[0m\n",
      "\u001b[1;31mKeyboardInterrupt\u001b[0m: "
     ]
    }
   ],
   "source": [
    "seq = [f for f in os.listdir(\"./data/archiveII\") if f.endswith('.seq')]\n",
    "\n",
    "for i in seq:\n",
    "    x = potential_stems(i)\n",
    "    y = overlaps_and_pseudoknots(x[0])\n",
    "    with open(\"preprocessing_all.txt\", \"a\") as f:\n",
    "        f.write(str(x[1])+\",\"+str(len(x[0]))+\",\"+str(y[0])+\",\"+str(y[1])+\"\\n\")"
   ]
  },
  {
   "cell_type": "code",
   "execution_count": null,
   "id": "044ec62c",
   "metadata": {},
   "outputs": [],
   "source": [
    "seq = [f for f in os.listdir(\"./data/archiveII\") if f.endswith('.seq')]\n",
    "\n",
    "for i in seq:\n",
    "    x = potential_stems(i)\n",
    "    with open(\"preprocessing_stems.txt\", \"a\") as f:\n",
    "        f.write(str(x[1])+\",\"+str(len(x[0]))+\"\\n\")"
   ]
  },
  {
   "cell_type": "code",
   "execution_count": null,
   "id": "916a72ad",
   "metadata": {},
   "outputs": [],
   "source": [
    "def quadratic(x, a, b, c):\n",
    "    return a*x**2 + b*x + c\n",
    "\n",
    "def cubic(x, a, b, c, d):\n",
    "    return a*x**3 + b*x**2 + c*x + d\n",
    "\n",
    "def exponent(x, a, b):\n",
    "    return a*x**b\n",
    "\n",
    "def worst(x):\n",
    "    return (1/24)*(x**3 - 9*x**2 + 23*x - 15)"
   ]
  },
  {
   "cell_type": "code",
   "execution_count": null,
   "id": "62f73d7d",
   "metadata": {},
   "outputs": [],
   "source": [
    "pp_stems = pd.read_csv('preprocessing_stems.csv', header=None)"
   ]
  },
  {
   "cell_type": "code",
   "execution_count": null,
   "id": "11749c9d",
   "metadata": {},
   "outputs": [],
   "source": [
    "pars_q, cov_q = curve_fit(f=quadratic, xdata=np.array(pp_stems[0]), ydata=np.array(pp_stems[1]), p0=[0, 0, 0], bounds=(-np.inf, np.inf))\n",
    "pars_c, cov_c = curve_fit(f=cubic, xdata=np.array(pp_stems[0]), ydata=np.array(pp_stems[1]), p0=[0, 0, 0, 0], bounds=(-np.inf, np.inf))\n",
    "pars_e, cov_e = curve_fit(f=exponent, xdata=np.array(pp_stems[0]), ydata=np.array(pp_stems[1]), p0=[0, 0], bounds=(-np.inf, np.inf))\n",
    "print(\"quadratic:\", pars_q)\n",
    "print(\"cubic:    \", pars_c)\n",
    "print(\"exponent: \", pars_e)"
   ]
  },
  {
   "cell_type": "code",
   "execution_count": null,
   "id": "6aed1b6d",
   "metadata": {},
   "outputs": [],
   "source": [
    "plt.figure(figsize=(7.5, 7.5))\n",
    "\n",
    "x = np.linspace(start=0, stop=3000, num=100)\n",
    "plt.plot(np.array(pp_stems[0]), np.array(pp_stems[1]), 'ro')\n",
    "#plt.plot(x, quadratic(x, *pars_q), linestyle='--', linewidth=2, color='black')\n",
    "#plt.plot(x, cubic(x, *pars_c), linestyle='-.', linewidth=2, color='black')\n",
    "plt.plot(x, exponent(x, *pars_e), linestyle=':', linewidth=2, color='black', label=r\"\"\"$y = ax^b$\"\"\")\n",
    "plt.plot(x, worst(x), linestyle=\"-\", linewidth=2, color='black', label='Worst Case')\n",
    "\n",
    "plt.xlabel('RNA Length')\n",
    "plt.ylabel('Number of Potential Stems')\n",
    "plt.axis([-100, 3100, -10000, 390000])\n",
    "plt.ticklabel_format(axis=\"y\", style=\"sci\", scilimits=(0,0))\n",
    "plt.legend()\n",
    "#plt.text(100, 350000, r'$y = ax^b$')\n",
    "\n",
    "plt.savefig('stems_vs_length.png')"
   ]
  },
  {
   "cell_type": "code",
   "execution_count": null,
   "id": "1223b699",
   "metadata": {},
   "outputs": [],
   "source": []
  }
 ],
 "metadata": {
  "kernelspec": {
   "display_name": "Python 3 (ipykernel)",
   "language": "python",
   "name": "python3"
  },
  "language_info": {
   "codemirror_mode": {
    "name": "ipython",
    "version": 3
   },
   "file_extension": ".py",
   "mimetype": "text/x-python",
   "name": "python",
   "nbconvert_exporter": "python",
   "pygments_lexer": "ipython3",
   "version": "3.9.7"
  }
 },
 "nbformat": 4,
 "nbformat_minor": 5
}
