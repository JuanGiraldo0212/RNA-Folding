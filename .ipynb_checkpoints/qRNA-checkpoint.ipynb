{
 "cells": [
  {
   "cell_type": "code",
   "execution_count": 1,
   "metadata": {},
   "outputs": [],
   "source": [
    "import numpy as np\n",
    "import math"
   ]
  },
  {
   "cell_type": "markdown",
   "metadata": {},
   "source": [
    "### Problem Preparation\n",
    "\n",
    "This section accepts a candidate RNA, finding its stems `(begin_residue, end_residue, length)`, pseudoknots `(stem1, stem2, penalty)`, stem overlaps `(stem1, stem2, penalty)`, and longest stem `mu`. Further, these data are then organized into two dictionaries in preparation for submission to the D-Wave QPU: `L`, which records the linear terms of the QUBO, and `Q`, which records the quadratic terms of the QUBO."
   ]
  },
  {
   "cell_type": "code",
   "execution_count": 2,
   "metadata": {
    "scrolled": true
   },
   "outputs": [
    {
     "name": "stdout",
     "output_type": "stream",
     "text": [
      "[[0. 0. 0. 0. 0. 1. 0. 0. 0. 1. 0. 1. 1. 1. 1. 1. 0. 1.]\n",
      " [0. 0. 0. 0. 0. 1. 0. 0. 0. 1. 0. 1. 1. 1. 1. 1. 0. 1.]\n",
      " [0. 0. 0. 0. 0. 0. 0. 0. 0. 0. 0. 1. 0. 0. 0. 1. 0. 1.]\n",
      " [0. 0. 0. 0. 0. 0. 0. 0. 0. 0. 0. 1. 0. 0. 0. 1. 0. 1.]\n",
      " [0. 0. 0. 0. 0. 1. 0. 0. 0. 1. 0. 1. 1. 1. 1. 1. 0. 1.]\n",
      " [0. 0. 0. 0. 0. 0. 0. 0. 0. 0. 0. 0. 0. 0. 0. 0. 1. 0.]\n",
      " [0. 0. 0. 0. 0. 0. 0. 0. 0. 0. 0. 1. 0. 0. 0. 1. 0. 1.]\n",
      " [0. 0. 0. 0. 0. 0. 0. 0. 0. 0. 0. 1. 0. 0. 0. 1. 0. 1.]\n",
      " [0. 0. 0. 0. 0. 0. 0. 0. 0. 0. 0. 1. 0. 0. 0. 1. 0. 1.]\n",
      " [0. 0. 0. 0. 0. 0. 0. 0. 0. 0. 0. 0. 0. 0. 0. 0. 1. 0.]\n",
      " [0. 0. 0. 0. 0. 0. 0. 0. 0. 0. 0. 1. 0. 0. 0. 1. 0. 1.]\n",
      " [0. 0. 0. 0. 0. 0. 0. 0. 0. 0. 0. 0. 0. 0. 0. 0. 1. 0.]\n",
      " [0. 0. 0. 0. 0. 0. 0. 0. 0. 0. 0. 0. 0. 0. 0. 0. 1. 0.]\n",
      " [0. 0. 0. 0. 0. 0. 0. 0. 0. 0. 0. 0. 0. 0. 0. 0. 1. 0.]\n",
      " [0. 0. 0. 0. 0. 0. 0. 0. 0. 0. 0. 0. 0. 0. 0. 0. 1. 0.]\n",
      " [0. 0. 0. 0. 0. 0. 0. 0. 0. 0. 0. 0. 0. 0. 0. 0. 1. 0.]\n",
      " [0. 0. 0. 0. 0. 0. 0. 0. 0. 0. 0. 0. 0. 0. 0. 0. 0. 1.]\n",
      " [0. 0. 0. 0. 0. 0. 0. 0. 0. 0. 0. 0. 0. 0. 0. 0. 0. 0.]]\n"
     ]
    }
   ],
   "source": [
    "rna = \"GGAAGCAAACAUCCCUGU\"\n",
    "matrix = np.zeros((len(rna),len(rna)))\n",
    "for diag in range(0, len(matrix)):\n",
    "    for row in range(0, len(matrix)-diag):\n",
    "        col = row + diag\n",
    "        base1 = rna[row]\n",
    "        base2 = rna[col]\n",
    "        if row != col:\n",
    "            if (((base1 == \"A\" and base2 == \"U\") or (base1 == \"U\" and base2 == \"A\")) or ((base1 == \"G\" and base2 == \"C\") or (base1 == \"C\" and base2 == \"G\")) or ((base1 == \"G\" and base2 == \"U\") or (base1 == \"U\" and base2 == \"G\"))):\n",
    "                matrix[row][col] = 1\n",
    "print(matrix)"
   ]
  },
  {
   "cell_type": "code",
   "execution_count": 3,
   "metadata": {},
   "outputs": [
    {
     "name": "stdout",
     "output_type": "stream",
     "text": [
      "[[1, 14, 3], [5, 18, 3], [9, 18, 3]]\n"
     ]
    }
   ],
   "source": [
    "stems_all = []\n",
    "mu = 0\n",
    "\n",
    "for row in range(0, len(matrix)):\n",
    "    for col in range (row, len(matrix)):\n",
    "        if row != col:\n",
    "            if matrix[row][col] == 1:\n",
    "                temp_row = row\n",
    "                temp_col = col\n",
    "                stem = [row+1,col+1,0]\n",
    "                length = 0\n",
    "                while (matrix[temp_row][temp_col] != 0) and (temp_row != temp_col):\n",
    "                    length+=1\n",
    "                    temp_row+=1\n",
    "                    temp_col-=1\n",
    "                if length >= 3:\n",
    "                    stems_all.append(stem)\n",
    "                    stem[2] = length\n",
    "                if length > mu:\n",
    "                    mu = length\n",
    "                    \n",
    "print(stems_all)"
   ]
  },
  {
   "cell_type": "code",
   "execution_count": 4,
   "metadata": {},
   "outputs": [
    {
     "name": "stdout",
     "output_type": "stream",
     "text": [
      "[[0, 1, 0.5], [0, 2, 0.5], [1, 2, 1]]\n"
     ]
    }
   ],
   "source": [
    "def pseudoknots(i, j):\n",
    "    \n",
    "    stem1 = stems_all[i]\n",
    "    stem2 = stems_all[j]\n",
    "    \n",
    "    i_a = stem1[0]\n",
    "    j_a = stem1[1]\n",
    "    i_b = stem2[0]\n",
    "    j_b = stem2[1]\n",
    "    \n",
    "    pseudoknot = [i,j,1]\n",
    "    \n",
    "    if (i_a < i_b and i_b < j_a and j_a < j_b) or (i_b < i_a and i_a < j_b and j_b < j_a):\n",
    "        \n",
    "        pseudoknot[2] = pseudoknot_penalty\n",
    "    \n",
    "    pseudoknots_all.append(pseudoknot)\n",
    "\n",
    "pseudoknot_penalty = 0.5\n",
    "pseudoknots_all = []\n",
    "for i in range(len(stems_all)):\n",
    "    for j in range(i + 1, len(stems_all)):\n",
    "        pseudoknots(i, j)\n",
    "print(pseudoknots_all)"
   ]
  },
  {
   "cell_type": "code",
   "execution_count": 28,
   "metadata": {},
   "outputs": [
    {
     "name": "stdout",
     "output_type": "stream",
     "text": [
      "[[0, 1, 0], [0, 2, 0], [1, 2, 1000]]\n"
     ]
    }
   ],
   "source": [
    "def overlaps(i, j):\n",
    "    \n",
    "    stem1 = stems_all[i]\n",
    "    stem2 = stems_all[j]\n",
    "    \n",
    "    overlap = [i, j, 0]\n",
    "    \n",
    "    stem1_cspan = set(range(stem1[1]-stem1[2]+1, stem1[1]+1))\n",
    "    stem2_cspan = set(range(stem2[1]-stem2[2]+1, stem2[1]+1))\n",
    "    \n",
    "    if len(stem1_cspan & stem2_cspan) != 0:\n",
    "        \n",
    "        overlap[2] = overlap_penalty\n",
    "        \n",
    "    overlaps_all.append(overlap)\n",
    "        \n",
    "overlap_penalty = 1000\n",
    "overlaps_all = []\n",
    "for i in range(len(stems_all)):\n",
    "    for j in range(i+1, len(stems_all)):\n",
    "        overlaps(i, j)\n",
    "print(overlaps_all)\n",
    "        "
   ]
  },
  {
   "cell_type": "code",
   "execution_count": 29,
   "metadata": {},
   "outputs": [
    {
     "name": "stdout",
     "output_type": "stream",
     "text": [
      "Stems      : [[1, 14, 3], [5, 18, 3], [9, 18, 3]]\n",
      "Pseudoknots: [[0, 1, 0.5], [0, 2, 0.5], [1, 2, 1]]\n",
      "Overlaps   : [[0, 1, 0], [0, 2, 0], [1, 2, 1000]]\n",
      "Mu         : 3\n"
     ]
    }
   ],
   "source": [
    "print(\"Stems      :\", stems_all)\n",
    "print(\"Pseudoknots:\", pseudoknots_all)\n",
    "print(\"Overlaps   :\", overlaps_all)\n",
    "print(\"Mu         :\", mu)"
   ]
  },
  {
   "cell_type": "code",
   "execution_count": 30,
   "metadata": {},
   "outputs": [
    {
     "name": "stdout",
     "output_type": "stream",
     "text": [
      "{'0': -9, '1': -9, '2': -9}\n",
      "{('0', '1'): 4.5, ('0', '2'): 4.5, ('1', '2'): 1009}\n"
     ]
    }
   ],
   "source": [
    "L = {}\n",
    "Q = {}\n",
    "cl = 1\n",
    "cb = 1\n",
    "k = 0\n",
    "\n",
    "for i in range(0, len(stems_all)):\n",
    "    L[str(i)] = cl*((stems_all[i][2]**2)-2*mu*stems_all[i][2]+mu**2)-cb*(stems_all[i][2]**2)\n",
    "    for j in range(i+1, len(stems_all)):\n",
    "        Q[(str(i), str(j))] = cb*stems_all[i][2]*stems_all[j][2]*pseudoknots_all[k][2]+overlaps_all[k][2]\n",
    "        k += 1\n",
    "        \n",
    "print(L)\n",
    "print(Q)"
   ]
  },
  {
   "cell_type": "markdown",
   "metadata": {},
   "source": [
    "### Problem Execution\n",
    "\n",
    "This section constructs the problem in a formulation acceptable to the D-Wave QPU and submits the problem to the `Advantage4.1` QPU and/or a hybrid solver (settings: $20\\text{ }\\mu s$ annealing time, $10$ runs for the quantum solver; 1 run for the hybrid solver). The answer is printed to show the selected stems, the energy of the solution, and the number of occurrences of that particular solution. "
   ]
  },
  {
   "cell_type": "code",
   "execution_count": 51,
   "metadata": {},
   "outputs": [],
   "source": [
    "from dwave.cloud import Client\n",
    "client = Client.from_config(token=\"DEV-6b38e4697eaa586b361595c629788f595b810a14\")\n",
    "client.get_solvers()\n",
    "\n",
    "from dwave.system.samplers import DWaveSampler\n",
    "from dwave.system.samplers import LeapHybridSampler\n",
    "from dwave.system.composites import EmbeddingComposite\n",
    "\n",
    "import dimod"
   ]
  },
  {
   "cell_type": "code",
   "execution_count": 52,
   "metadata": {},
   "outputs": [],
   "source": [
    "model = dimod.BinaryQuadraticModel(L, Q, vartype = 'BINARY', offset = 0.0)"
   ]
  },
  {
   "cell_type": "code",
   "execution_count": 64,
   "metadata": {},
   "outputs": [],
   "source": [
    "sampler_quantum = DWaveSampler(solver={'topology__type': 'pegasus'})\n",
    "sampler_hybrid  = LeapHybridSampler()\n",
    "\n",
    "hamiltonian_quantum = EmbeddingComposite(sampler_quantum).sample(model, num_reads = 10)\n",
    "hamiltonian_hybrid  = sampler_hybrid.sample(model)"
   ]
  },
  {
   "cell_type": "code",
   "execution_count": 65,
   "metadata": {},
   "outputs": [
    {
     "name": "stdout",
     "output_type": "stream",
     "text": [
      "Quantum sampler results:\n",
      "\n",
      "{'0': 1, '1': 1, '2': 0} -13.5 1\n",
      "{'0': 1, '1': 0, '2': 1} -13.5 2\n",
      "{'0': 1, '1': 0, '2': 0} -9.0 1\n",
      "{'0': 0, '1': 0, '2': 1} -9.0 4\n",
      "{'0': 0, '1': 0, '2': 0} 0.0 2\n",
      "\n",
      " Hybrid sampler results:\n",
      "\n",
      "{'0': 1, '1': 1, '2': 0} -13.5 1\n"
     ]
    }
   ],
   "source": [
    "print(\"Quantum sampler results:\\n\")\n",
    "for datum in hamiltonian_quantum.data(['sample', 'energy', 'num_occurrences']):\n",
    "    print(datum.sample, datum.energy, datum.num_occurrences)\n",
    "\n",
    "print(\"\\n\", \"Hybrid sampler results:\\n\")\n",
    "for datum in hamiltonian_hybrid.data(['sample', 'energy', 'num_occurrences']):\n",
    "    print(datum.sample, datum.energy, datum.num_occurrences)"
   ]
  },
  {
   "cell_type": "markdown",
   "metadata": {},
   "source": [
    "### Problem Evaluation\n",
    "\n",
    "This section evaluates the results of the above section using the sensitivity ($\\sigma_{SN}$) and specificity ($\\sigma_{SP}$) metrics defined therein as:\n",
    "\n",
    "$$\\sigma_{SN} = \\frac{C}{C+M}$$\n",
    "\n",
    "And:\n",
    "\n",
    "$$\\sigma_{SN} = \\frac{C}{C+I}$$\n",
    "\n",
    "Where C is the number of correctly identified base pairs, M is the number of the predicted base pairs missing from the known structure, and I is the number of non-predicted base pairs present in\n",
    "the known structure.\n",
    "\n",
    "Tests to conduct:\n",
    "\n",
    "1. Performance as a function of RNA size/complexity\n",
    "2. Optimization of pseudoknot parameter\n",
    "3. Adapting known loop-structure penalties to the energy model (need to find these/talk with Hosna)\n",
    "4. Compare hybrid- versus fully-quantum solvers???"
   ]
  },
  {
   "cell_type": "code",
   "execution_count": null,
   "metadata": {},
   "outputs": [],
   "source": []
  }
 ],
 "metadata": {
  "kernelspec": {
   "display_name": "Python 3",
   "language": "python",
   "name": "python3"
  },
  "language_info": {
   "codemirror_mode": {
    "name": "ipython",
    "version": 3
   },
   "file_extension": ".py",
   "mimetype": "text/x-python",
   "name": "python",
   "nbconvert_exporter": "python",
   "pygments_lexer": "ipython3",
   "version": "3.7.3"
  }
 },
 "nbformat": 4,
 "nbformat_minor": 2
}
