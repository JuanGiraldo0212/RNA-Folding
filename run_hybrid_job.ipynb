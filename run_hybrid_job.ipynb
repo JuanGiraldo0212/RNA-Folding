{
 "cells": [
  {
   "cell_type": "code",
   "execution_count": 1,
   "id": "e34426d7",
   "metadata": {},
   "outputs": [],
   "source": [
    "import json\n",
    "from braket.jobs.config import InstanceConfig\n",
    "from braket.jobs.local.local_job import LocalQuantumJob\n",
    "from braket.aws import AwsQuantumJob\n",
    "import time"
   ]
  },
  {
   "cell_type": "code",
   "execution_count": 2,
   "id": "7c99e0e7",
   "metadata": {},
   "outputs": [
    {
     "name": "stdout",
     "output_type": "stream",
     "text": [
      "JSON encoded hyperparameters:\n",
      "{'solver_limit': '100', 'num_repeats': '1', 'num_reads': '1', 'seed': '1'}\n"
     ]
    }
   ],
   "source": [
    "hyperparams = {\n",
    "    \"solver_limit\": 100, # int, the maximum number of variables (n) for sub-QUBOs\n",
    "    \"num_repeats\": 1, # int, the maximum iterations to repeat QBSolv solver execution to discover a new best solution\n",
    "    \"num_reads\": 1, # int, how many times the annealing is performed\n",
    "    \"seed\": 1, # int, random seed\n",
    "    }\n",
    "\n",
    "hyperparams = {str(k): json.dumps(v) for (k, v) in hyperparams.items()}\n",
    "print(f\"JSON encoded hyperparameters:\\n{hyperparams}\")"
   ]
  },
  {
   "cell_type": "code",
   "execution_count": 5,
   "id": "d1985b28",
   "metadata": {},
   "outputs": [],
   "source": [
    "model = \"m2\"\n",
    "size = \"s\" \n",
    "\n",
    "# specify device that the job will primarily be targeting\n",
    "device_arn = 'arn:aws:braket:::device/qpu/d-wave/Advantage_system4' # D-Wave QPU Device ARN\n",
    "\n",
    "# submit a Braket job\n",
    "aws_job = AwsQuantumJob.create(\n",
    "    device=device_arn,\n",
    "    instance_config=InstanceConfig(instanceType=\"ml.m5.xlarge\"),\n",
    "    source_module=\"src\",\n",
    "    job_name=\"Job-\"+model+\"-\"+ size +\"-\" + str(int(time.time())),\n",
    "    entry_point=\"src.hybrid_job_RNA_folding_m2\",\n",
    "    image_uri=\"171631249053.dkr.ecr.us-west-2.amazonaws.com/amazon-braket-rna-folding:latest\",\n",
    "    hyperparameters=hyperparams,\n",
    "    input_data={\"data\": \"small_structures\"},\n",
    "    wait_until_complete = False\n",
    ")"
   ]
  },
  {
   "cell_type": "code",
   "execution_count": 9,
   "id": "8d6fcd1b",
   "metadata": {},
   "outputs": [
    {
     "name": "stdout",
     "output_type": "stream",
     "text": [
      "COMPLETED\n"
     ]
    }
   ],
   "source": [
    "job = AwsQuantumJob(arn=\"arn:aws:braket:us-west-2:171631249053:job/Job-m3-s-1650500178\")\n",
    "print(job.state())"
   ]
  },
  {
   "cell_type": "code",
   "execution_count": 10,
   "id": "a8456b4e",
   "metadata": {},
   "outputs": [
    {
     "name": "stdout",
     "output_type": "stream",
     "text": [
      "{'final_values': '[1.44961544 2.0240931  1.75881093 1.42386864]', 'loss': '0.12702038720162367', 'hyperparams': \"{'seed': '1', 'solver_limit': '100', 'num_reads': '1', 'num_repeats': '1'}\"}\n"
     ]
    }
   ],
   "source": [
    "print(job.result())"
   ]
  },
  {
   "cell_type": "code",
   "execution_count": null,
   "id": "a7b74db8",
   "metadata": {},
   "outputs": [],
   "source": []
  }
 ],
 "metadata": {
  "kernelspec": {
   "display_name": "Python 3 (ipykernel)",
   "language": "python",
   "name": "python3"
  },
  "language_info": {
   "codemirror_mode": {
    "name": "ipython",
    "version": 3
   },
   "file_extension": ".py",
   "mimetype": "text/x-python",
   "name": "python",
   "nbconvert_exporter": "python",
   "pygments_lexer": "ipython3",
   "version": "3.9.7"
  }
 },
 "nbformat": 4,
 "nbformat_minor": 5
}
